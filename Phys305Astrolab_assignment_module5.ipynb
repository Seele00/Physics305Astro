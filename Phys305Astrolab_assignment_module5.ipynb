{
  "nbformat": 4,
  "nbformat_minor": 0,
  "metadata": {
    "colab": {
      "name": "Phys305Astrolab_assignment_module5.ipynb",
      "provenance": [],
      "include_colab_link": true
    },
    "kernelspec": {
      "name": "python3",
      "display_name": "Python 3"
    }
  },
  "cells": [
    {
      "cell_type": "markdown",
      "metadata": {
        "id": "view-in-github",
        "colab_type": "text"
      },
      "source": [
        "<a href=\"https://colab.research.google.com/github/Seele00/Physics305Astro/blob/master/Phys305Astrolab_assignment_module5.ipynb\" target=\"_parent\"><img src=\"https://colab.research.google.com/assets/colab-badge.svg\" alt=\"Open In Colab\"/></a>"
      ]
    },
    {
      "cell_type": "markdown",
      "metadata": {
        "id": "ST5d6dw3dLZh",
        "colab_type": "text"
      },
      "source": [
        "# **PS305 Lab Assignment** \n",
        "## Module 5: Estimating Galaxy Redshifts Using Machine Learning Regression\n",
        "\n",
        "_Instructions_: Answer each part of the assignment as completely as you can. Discuss **all** your code and results as clearly and concisely as possible. \n",
        "\n",
        "_Scoring Criteria_: 50% - *correctness of code*; 50% - *discussion of the code and results*. Maximum score is **100 points** (Parts 1, 2, 3, and 4 are worth 20, 20, 40, and 20 points, respectively).\n",
        "\n",
        "_Due Date_: **5PM of November 19 (Thu)**\n",
        "\n",
        "_Credits_: This assignment is based on the Week 5 module of the Coursera course \"Data-driven Astronomy\", \"Building a regression classifier\" ([link](https://www.coursera.org/learn/data-driven-astronomy/home/welcome))"
      ]
    },
    {
      "cell_type": "markdown",
      "metadata": {
        "id": "iZZaEzKHdVYG",
        "colab_type": "text"
      },
      "source": [
        "### Student Information \n",
        "\n",
        "_Full Name (Last Name, First Name)_: \\\n",
        "_Student No._:\\\n",
        "_Section_:"
      ]
    },
    {
      "cell_type": "markdown",
      "metadata": {
        "id": "Xv1STpPodaDL",
        "colab_type": "text"
      },
      "source": [
        "### Submission Information\n",
        "\n",
        "_Date and Time Submitted (most recent upload)_: \n",
        "\n",
        "**HONOR PLEDGE** I affirm that I have upheld the highest principles of honesty and integrity in my academic work and that this lab assignment is my own work.\n",
        "\n",
        "**Sign here with your full name:** "
      ]
    },
    {
      "cell_type": "markdown",
      "metadata": {
        "id": "8zw1kC_rdoHT",
        "colab_type": "text"
      },
      "source": [
        "### Grading Information (c/o Instructor)\n",
        "\n",
        "TOTAL SCORE: **[]**/100\n",
        "\n",
        "Score breakdown:\n",
        "* Part 1 - []/20\n",
        "* Part 2 - []/20\n",
        "* Part 3 - []/40\n",
        "* Part 4 - []/20\n",
        "\n",
        "_Date and Time Scored (MM/DD/YYYY HH:MM AM/PM):_ "
      ]
    },
    {
      "cell_type": "markdown",
      "metadata": {
        "id": "UNaYs-MfeDRl",
        "colab_type": "text"
      },
      "source": [
        "For this assignment, you will work with galaxy data from the \n",
        "Sloan Digital Sky Survey (SDSS). First, you need to make a copy of the binary file ```sdss_galaxy_colors.npy``` and save it to a folder in your **own Google Drive**. This file is available from the PS305 Course Pack Google Drive (in the General > Datasets folder) and directly from this link: https://drive.google.com/drive/folders/1NECbwE_jtznZXkfOBa94W15MYR0gZfGI?usp=sharing\n",
        "\n",
        "The code cells below will (1) mount your Google Drive and (2) load ```sdss_galaxy_colors.npy``` from your Google Drive folder."
      ]
    },
    {
      "cell_type": "markdown",
      "metadata": {
        "id": "ee1mHlUWfcsc",
        "colab_type": "text"
      },
      "source": [
        "Mount the Google Drive where you saved the .npy file. \n",
        "\n",
        "When you run this cell, you will be asked to sign in to your Google account and you will get an authorization code. Paste the code on the provided cell to mount the Google Drive."
      ]
    },
    {
      "cell_type": "code",
      "metadata": {
        "id": "yH0IOwb1YBHc",
        "colab_type": "code",
        "colab": {
          "base_uri": "https://localhost:8080/",
          "height": 122
        },
        "outputId": "bee07681-0ca2-490d-885d-e88ec3b9002c"
      },
      "source": [
        "from google.colab import drive\n",
        "drive.mount(\"/content/drive\")"
      ],
      "execution_count": null,
      "outputs": [
        {
          "output_type": "stream",
          "text": [
            "Go to this URL in a browser: https://accounts.google.com/o/oauth2/auth?client_id=947318989803-6bn6qk8qdgf4n4g3pfee6491hc0brc4i.apps.googleusercontent.com&redirect_uri=urn%3aietf%3awg%3aoauth%3a2.0%3aoob&scope=email%20https%3a%2f%2fwww.googleapis.com%2fauth%2fdocs.test%20https%3a%2f%2fwww.googleapis.com%2fauth%2fdrive%20https%3a%2f%2fwww.googleapis.com%2fauth%2fdrive.photos.readonly%20https%3a%2f%2fwww.googleapis.com%2fauth%2fpeopleapi.readonly&response_type=code\n",
            "\n",
            "Enter your authorization code:\n",
            "··········\n",
            "Mounted at /content/drive\n"
          ],
          "name": "stdout"
        }
      ]
    },
    {
      "cell_type": "markdown",
      "metadata": {
        "id": "k0C5c-8ofqDu",
        "colab_type": "text"
      },
      "source": [
        "Run this command to list the directories in your Google Drive and check that the mount was successful."
      ]
    },
    {
      "cell_type": "code",
      "metadata": {
        "id": "mzKLlj20fsJu",
        "colab_type": "code",
        "colab": {
          "base_uri": "https://localhost:8080/",
          "height": 34
        },
        "outputId": "46e12e1f-46a0-43d8-8660-34da3b987195"
      },
      "source": [
        "!ls drive/My\\ Drive"
      ],
      "execution_count": null,
      "outputs": [
        {
          "output_type": "stream",
          "text": [
            " Admin\t'Colab Notebooks'   Misc   Research   Talks   Teaching\n"
          ],
          "name": "stdout"
        }
      ]
    },
    {
      "cell_type": "markdown",
      "metadata": {
        "id": "XPLuh_jWfju8",
        "colab_type": "text"
      },
      "source": [
        "Define the directory path to the location of the file, i.e. if it is in a folder named \"PS305\" under My Drive, then the file path will be \"/content/drive/My Drive/PS305\". Change the string variable in the code cell below, as needed:"
      ]
    },
    {
      "cell_type": "code",
      "metadata": {
        "id": "jRpIuwdigDg5",
        "colab_type": "code",
        "colab": {}
      },
      "source": [
        "file_path = \"/content/drive/My Drive/PS305/\""
      ],
      "execution_count": null,
      "outputs": []
    },
    {
      "cell_type": "code",
      "metadata": {
        "id": "ErUcpXZlWJvo",
        "colab_type": "code",
        "colab": {}
      },
      "source": [
        "file_path = \"/content/drive/My Drive/Teaching/PS305/PS305 Course Pack/General/Datasets/\""
      ],
      "execution_count": null,
      "outputs": []
    },
    {
      "cell_type": "markdown",
      "metadata": {
        "id": "VW7RFRGaik-6",
        "colab_type": "text"
      },
      "source": [
        "Now, we can load the file using $\\tt numpy$'s $\\tt load$ function below."
      ]
    },
    {
      "cell_type": "code",
      "metadata": {
        "id": "y61tYmPIimUv",
        "colab_type": "code",
        "colab": {}
      },
      "source": [
        "import numpy as np\n",
        "\n",
        "data = np.load(file_path + 'sdss_galaxy_colors.npy')"
      ],
      "execution_count": null,
      "outputs": []
    },
    {
      "cell_type": "markdown",
      "metadata": {
        "id": "HpXP16UfWHQK",
        "colab_type": "text"
      },
      "source": [
        "Print the array. Note that the columns are:\n",
        "* $u$ magnitude\n",
        "* $g$ magnitude\n",
        "* $r$ magnitude\n",
        "* $i$ magnitude\n",
        "* $z$ magnitude\n",
        "* spectroscopic class\n",
        "* redshift\n",
        "* redshift error"
      ]
    },
    {
      "cell_type": "code",
      "metadata": {
        "id": "HbQiDjyIWsjr",
        "colab_type": "code",
        "colab": {
          "base_uri": "https://localhost:8080/",
          "height": 173
        },
        "outputId": "a1554ca9-5378-44a5-ecb3-76d09a7249d0"
      },
      "source": [
        "data"
      ],
      "execution_count": null,
      "outputs": [
        {
          "output_type": "execute_result",
          "data": {
            "text/plain": [
              "array([(19.84132, 19.52656, 19.46946, 19.17955, 19.10763, b'QSO', 0.539301  , 6.543622e-05),\n",
              "       (19.86318, 18.66298, 17.84272, 17.38978, 17.14313, b'GALAXY', 0.1645703 , 1.186625e-05),\n",
              "       (19.97362, 18.31421, 17.47922, 17.0744 , 16.76174, b'GALAXY', 0.04190006, 2.183788e-05),\n",
              "       ...,\n",
              "       (19.82667, 18.10038, 17.16133, 16.5796 , 16.19755, b'GALAXY', 0.0784592 , 2.159406e-05),\n",
              "       (19.98672, 19.75385, 19.5713 , 19.27739, 19.25895, b'QSO', 1.567295  , 4.505933e-04),\n",
              "       (18.00024, 17.80957, 17.77302, 17.72663, 17.7264 , b'QSO', 0.4749449 , 6.203324e-05)],\n",
              "      dtype=[('u', '<f8'), ('g', '<f8'), ('r', '<f8'), ('i', '<f8'), ('z', '<f8'), ('spec_class', 'S6'), ('redshift', '<f8'), ('redshift_err', '<f8')])"
            ]
          },
          "metadata": {
            "tags": []
          },
          "execution_count": 7
        }
      ]
    },
    {
      "cell_type": "markdown",
      "metadata": {
        "id": "_eq2V7xzFtq7",
        "colab_type": "text"
      },
      "source": [
        "#### PART 1 - Get features and targets *(20 pts.)*\n",
        "\n",
        "Write a function ```get_features_targets``` that splits the dataset into input features and their corresponding targets. In our case, the inputs are the 4 galaxy colors ($u-g$, $g-r$, $r-i$, and $i-z$) and our targets are redshifts.\n",
        "\n",
        "Here's an example of how your function should work:\n",
        "```\n",
        ">>> features, targets = get_features_targets(data)\n",
        ">>> print(features[:2])\n",
        ">>> print(targets[:2])\n",
        "[[0.31476 0.0571  0.28991 0.07192]\n",
        " [1.2002  0.82026 0.45294 0.24665]]\n",
        "[0.539301  0.1645703]\n",
        "```"
      ]
    },
    {
      "cell_type": "code",
      "metadata": {
        "id": "mfMtufdukBnu",
        "colab_type": "code",
        "colab": {}
      },
      "source": [
        ""
      ],
      "execution_count": null,
      "outputs": []
    },
    {
      "cell_type": "markdown",
      "metadata": {
        "id": "JNcXnDAJHW5N",
        "colab_type": "text"
      },
      "source": [
        "#### PART 2 - Get the median difference *(20 pts.)*\n",
        "\n",
        "Write a function ```median_diff``` that can calculate the median residual error of your model, i.e., the median difference between the predicted and actual redshifts. This function should take as arguments two arrays, namely, the predicted and actual target values. "
      ]
    },
    {
      "cell_type": "code",
      "metadata": {
        "id": "2hU9drbdHWVS",
        "colab_type": "code",
        "colab": {}
      },
      "source": [
        ""
      ],
      "execution_count": null,
      "outputs": []
    },
    {
      "cell_type": "markdown",
      "metadata": {
        "id": "vnePPYpJNWoY",
        "colab_type": "text"
      },
      "source": [
        "#### PART 3 - Train and validate a decision tree model *(40 pts.)*\n",
        "\n",
        "Write a function ```validate_model``` that will train and validate a model that predicts a galaxy's redshift from its colors. In particular, it should do the following:\n",
        "1. Split the dataset into a training and test dataset using an 80:20 split.\n",
        "2. Train the input model using the training dataset features and targets.\n",
        "3. Get the predicted redshifts for the test dataset.\n",
        "4. Return the median difference between the predicted and actual redshifts.\n",
        "\n",
        "Here's an example of how your function should work:\n",
        "```\n",
        "import numpy as np\n",
        "from sklearn.tree import DecisionTreeRegressor\n",
        "\n",
        "data = np.load(file_path + 'sdss_galaxy_colors.npy')\n",
        "features, targets = get_features_targets(data)\n",
        "\n",
        "# initialize model\n",
        "dtr = DecisionTreeRegressor()\n",
        "\n",
        "# validate the model and print the median difference\n",
        "diff = validate_model(dtr, features, targets)\n",
        "print(diff)\n",
        "```"
      ]
    },
    {
      "cell_type": "code",
      "metadata": {
        "id": "kBuhsaCgOjlG",
        "colab_type": "code",
        "colab": {}
      },
      "source": [
        ""
      ],
      "execution_count": null,
      "outputs": []
    },
    {
      "cell_type": "markdown",
      "metadata": {
        "id": "hlSp5k92OjuM",
        "colab_type": "text"
      },
      "source": [
        "#### PART 4 - Visualize results *(20 pts.)*\n",
        "\n",
        "1. Use ```matplotlib.pyplot``` package's ```scatter``` function with color map argument $\\tt cmap$ to make a scatter plot showing $u-g$ in the x-axis, $r-i$ in the y-axis, and colored according to redshift. Describe what you see. *(10 pts.)*\n",
        "\n",
        "2. Use ```matplotlib.pyplot``` package's ```scatter``` or ```plot``` function to make a scatter plot showing actual redshifts in the x-axis and predicted redshifts in the y-axis. Describe what you see. *(10 pts.)*"
      ]
    },
    {
      "cell_type": "code",
      "metadata": {
        "id": "OZXvnOSLdH_k",
        "colab_type": "code",
        "colab": {}
      },
      "source": [
        "from matplotlib import pyplot as plt\n"
      ],
      "execution_count": null,
      "outputs": []
    },
    {
      "cell_type": "markdown",
      "metadata": {
        "id": "u8qG6aExd6np",
        "colab_type": "text"
      },
      "source": [
        "[SCORE BREAKDOWN] \n",
        "\n",
        "Part 1:\n",
        "* Correctness of Code: []/10\n",
        "* Discussion: []/10\n",
        "* Subtotal: []/20\n",
        "\n",
        "Part 2:\n",
        "* Correctness of Code: []/10\n",
        "* Discussion: []/10\n",
        "* Subtotal: []/20\n",
        "\n",
        "Part 3:\n",
        "* Correctness of Code: []/20\n",
        "* Discussion: []/20\n",
        "* Subtotal: []/40\n",
        "\n",
        "Part 4:\n",
        "* Correctness of Code: []/10\n",
        "* Discussion: []/10\n",
        "* Subtotal: []/20\n",
        "\n",
        "Feedback: "
      ]
    }
  ]
}