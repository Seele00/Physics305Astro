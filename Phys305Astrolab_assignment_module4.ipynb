{
  "nbformat": 4,
  "nbformat_minor": 0,
  "metadata": {
    "colab": {
      "name": "Phys305Astrolab_assignment_module4.ipynb",
      "provenance": [],
      "include_colab_link": true
    },
    "kernelspec": {
      "name": "python3",
      "display_name": "Python 3"
    }
  },
  "cells": [
    {
      "cell_type": "markdown",
      "metadata": {
        "id": "view-in-github",
        "colab_type": "text"
      },
      "source": [
        "<a href=\"https://colab.research.google.com/github/Seele00/Physics305Astro/blob/master/Phys305Astrolab_assignment_module4.ipynb\" target=\"_parent\"><img src=\"https://colab.research.google.com/assets/colab-badge.svg\" alt=\"Open In Colab\"/></a>"
      ]
    },
    {
      "cell_type": "markdown",
      "metadata": {
        "id": "ST5d6dw3dLZh",
        "colab_type": "text"
      },
      "source": [
        "# **PS305 Lab Assignment** \n",
        "## Module 4: Using SQL and Python Queries on Exoplanet Data\n",
        "\n",
        "_Instructions_: Answer each part of the assignment as completely as you can. Discuss **all** your code and results as clearly and concisely as possible. \n",
        "\n",
        "_Scoring Criteria_: 50% - *correctness of code*; 50% - *discussion of the code and results*. Maximum score is **100 points** (Parts 1 and 2 are worth 40 and 60 points, respectively).\n",
        "\n",
        "_Due Date_: **5PM of November 5 (Thu)**\n",
        "\n",
        "_Credit_: This assignment is based on the Week 4 module of the Coursera course \"Data-driven Astronomy\", \"Combining SQL and Python\" ([link](https://www.coursera.org/learn/data-driven-astronomy/home/welcome))"
      ]
    },
    {
      "cell_type": "markdown",
      "metadata": {
        "id": "iZZaEzKHdVYG",
        "colab_type": "text"
      },
      "source": [
        "### Student Information \n",
        "\n",
        "_Full Name (Last Name, First Name)_: \\\n",
        "_Student No._:\\\n",
        "_Section_:"
      ]
    },
    {
      "cell_type": "markdown",
      "metadata": {
        "id": "Xv1STpPodaDL",
        "colab_type": "text"
      },
      "source": [
        "### Submission Information\n",
        "\n",
        "_Date and Time Submitted (most recent upload)_: \n",
        "\n",
        "**HONOR PLEDGE** I affirm that I have upheld the highest principles of honesty and integrity in my academic work and that this lab assignment is my own work.\n",
        "\n",
        "**Sign here with your full name:** "
      ]
    },
    {
      "cell_type": "markdown",
      "metadata": {
        "id": "8zw1kC_rdoHT",
        "colab_type": "text"
      },
      "source": [
        "### Grading Information (c/o Instructor)\n",
        "\n",
        "TOTAL SCORE: **[]**/100\n",
        "\n",
        "Score breakdown:\n",
        "* Part 1 - []/40\n",
        "* Part 2 - []/60\n",
        "\n",
        "_Date and Time Scored (MM/DD/YYYY HH:MM AM/PM):_ 0"
      ]
    },
    {
      "cell_type": "markdown",
      "metadata": {
        "id": "y3w1K_wh1YOR",
        "colab_type": "text"
      },
      "source": [
        "For this assignment, you will need to connect to an SQL database using ```sqlalchemy```. Do this by running the code below."
      ]
    },
    {
      "cell_type": "code",
      "metadata": {
        "id": "Q5KfqzuhRS5X",
        "colab_type": "code",
        "colab": {}
      },
      "source": [
        "from sqlalchemy import create_engine\n",
        "\n",
        "MYSQL_HOSTNAME = 'aika-prod.ckfjfiqb1qvb.us-east-2.rds.amazonaws.com' # you probably don't need to change this\n",
        "MYSQL_USER = 'FILL_IN'\n",
        "MYSQL_PASSWORD = 'FILL_IN'\n",
        "MYSQL_DATABASE = 'FILL_IN'\n",
        "\n",
        "connection_string = f'mysql+pymysql://{MYSQL_USER}:{MYSQL_PASSWORD}@{MYSQL_HOSTNAME}/{MYSQL_DATABASE}'\n",
        "connect_args = {'ssl': {'ca': '/content/rds-ca-2015-root.pem'}}\n",
        "\n",
        "db = create_engine(connection_string, connect_args=connect_args)"
      ],
      "execution_count": null,
      "outputs": []
    },
    {
      "cell_type": "markdown",
      "metadata": {
        "id": "VMmkGU41YVVC",
        "colab_type": "text"
      },
      "source": [
        "Then, you can run SQL queries using the ```pandas read_sql``` function. Here is a sample query:"
      ]
    },
    {
      "cell_type": "code",
      "metadata": {
        "id": "4nZCRWLURVDo",
        "colab_type": "code",
        "colab": {}
      },
      "source": [
        "import pandas as pd\n",
        "\n",
        "query = \"\"\"SELECT * FROM Planets;\"\"\".format(MYSQL_DATABASE)\n",
        "\n",
        "planets_df = pd.read_sql(query, con=db)"
      ],
      "execution_count": null,
      "outputs": []
    },
    {
      "cell_type": "markdown",
      "metadata": {
        "id": "iC9KmgiqZM5N",
        "colab_type": "text"
      },
      "source": [
        "Print the dataframe"
      ]
    },
    {
      "cell_type": "code",
      "metadata": {
        "id": "UH3xT6lFDRdx",
        "colab_type": "code",
        "colab": {}
      },
      "source": [
        "planets_df"
      ],
      "execution_count": null,
      "outputs": []
    },
    {
      "cell_type": "markdown",
      "metadata": {
        "id": "XPIJUOXzR1p_",
        "colab_type": "text"
      },
      "source": [
        "#### PART 1: Stars sorted by size *(40 pts.)*\n",
        "\n",
        "Run the following SQL query and create a ```query``` function that performs the same query using Python ```numpy``` or ```pandas``` functions.\n",
        " \n",
        " ```\n",
        "SELECT kepler_id, radius\n",
        "FROM Star\n",
        "WHERE radius > 1.0\n",
        "ORDER BY radius ASC;\n",
        "```\n"
      ]
    },
    {
      "cell_type": "markdown",
      "metadata": {
        "id": "UNaYs-MfeDRl",
        "colab_type": "text"
      },
      "source": [
        "#### PART 2: Size ratios *(60 pts.)*\n",
        "\n",
        "Let's add yet another element to our query. Join the Star table with the Planet table and calculate the size ratio, i.e. planet radius / star radius for each star-planet pair. Your ```query_size_ratio``` function should produce the same result as the SQL query:\n",
        "\n",
        " ```\n",
        "SELECT p.radius/s.radius AS radius_ratio\n",
        "FROM Planet AS p\n",
        "INNER JOIN star AS s USING (kepler_id)\n",
        "WHERE s.radius > 1.0\n",
        "ORDER BY p.radius/s.radius ASC;\n",
        "```\n",
        "You can use your results from the last problem and then build up on that. The function must be named query, but this time it should take two filenames as arguments, for the stars and planets.\n",
        "\n",
        "In planets.csv, the first column is the kepler_id and the second last column is the radius.\n",
        "\n",
        "Your function should be a column vector of ratios, like this:\n",
        "```\n",
        ">>> query('stars.csv', 'planets.csv')\n",
        "array([[  0.48798799],\n",
        "       [  0.8260447 ],\n",
        "       [  0.96209913],\n",
        "       [  1.1556384 ],\n",
        "       [  1.30403969],\n",
        "       ...\n",
        "```"
      ]
    },
    {
      "cell_type": "code",
      "metadata": {
        "id": "ZI0K7A1wBtdX",
        "colab_type": "code",
        "colab": {}
      },
      "source": [
        ""
      ],
      "execution_count": null,
      "outputs": []
    },
    {
      "cell_type": "markdown",
      "metadata": {
        "id": "u8qG6aExd6np",
        "colab_type": "text"
      },
      "source": [
        "[SCORE BREAKDOWN] \n",
        "\n",
        "Part 1:\n",
        "* Correctness of Code: []/20\n",
        "* Discussion: []/20\n",
        "* Subtotal: []/40\n",
        "\n",
        "Part 2:\n",
        "* Correctness of Code: []/30\n",
        "* Discussion: []/30\n",
        "* Subtotal: []/60\n",
        "\n",
        "Feedback: "
      ]
    }
  ]
}