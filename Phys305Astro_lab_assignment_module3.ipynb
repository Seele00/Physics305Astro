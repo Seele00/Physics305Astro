{
  "nbformat": 4,
  "nbformat_minor": 0,
  "metadata": {
    "colab": {
      "name": "Phys305Astro lab_assignment_module3.ipynb",
      "provenance": [],
      "include_colab_link": true
    },
    "kernelspec": {
      "name": "python3",
      "display_name": "Python 3"
    }
  },
  "cells": [
    {
      "cell_type": "markdown",
      "metadata": {
        "id": "view-in-github",
        "colab_type": "text"
      },
      "source": [
        "<a href=\"https://colab.research.google.com/github/Seele00/Physics305Astro/blob/master/Phys305Astro_lab_assignment_module3.ipynb\" target=\"_parent\"><img src=\"https://colab.research.google.com/assets/colab-badge.svg\" alt=\"Open In Colab\"/></a>"
      ]
    },
    {
      "cell_type": "markdown",
      "metadata": {
        "id": "ST5d6dw3dLZh"
      },
      "source": [
        "# **PS305 Lab Assignment** \n",
        "## Module 3: Using SQL Queries to Study Exoplanets\n",
        "\n",
        "_Instructions_: Answer each part of the assignment as completely as you can. Discuss **all** your code and results as clearly and concisely as possible. \n",
        "\n",
        "_Scoring Criteria_: 50% - *correctness of code*; 50% - *discussion of the code and results*. Maximum score is **100 points** (Parts 1 and 2 are worth 40 and 60 points, respectively).\n",
        "\n",
        "_Due Date_: **5PM of October 22 (Thu)**\n",
        "\n",
        "_Credit_: This assignment is based on the Week 3 module of the Coursera course \"Data-driven Astronomy\", \"Working on your own SQL queries\" ([link](https://www.coursera.org/learn/data-driven-astronomy/home/welcome))"
      ]
    },
    {
      "cell_type": "markdown",
      "metadata": {
        "id": "iZZaEzKHdVYG"
      },
      "source": [
        "### Student Information \n",
        "\n",
        "_Full Name (Last Name, First Name)_: \\\n",
        "_Student No._:\\\n",
        "_Section_:"
      ]
    },
    {
      "cell_type": "markdown",
      "metadata": {
        "id": "Xv1STpPodaDL"
      },
      "source": [
        "### Submission Information\n",
        "\n",
        "_Date and Time Submitted (most recent upload)_: \n",
        "\n",
        "**HONOR PLEDGE** I affirm that I have upheld the highest principles of honesty and integrity in my academic work and that this lab assignment is my own work.\n",
        "\n",
        "**Sign here with your full name:** "
      ]
    },
    {
      "cell_type": "markdown",
      "metadata": {
        "id": "8zw1kC_rdoHT"
      },
      "source": [
        "### Grading Information (c/o Instructor)\n",
        "\n",
        "TOTAL SCORE: **[]**/100\n",
        "\n",
        "Score breakdown:\n",
        "* Part 1 - []/40\n",
        "* Part 2 - []/60\n",
        "\n",
        "_Date and Time Scored (MM/DD/YYYY HH:MM AM/PM):_ 0"
      ]
    },
    {
      "cell_type": "markdown",
      "metadata": {
        "id": "y3w1K_wh1YOR"
      },
      "source": [
        "For this assignment, you will need to connect to an SQL database using ```psycopg2```. Do this by running the code below."
      ]
    },
    {
      "cell_type": "code",
      "metadata": {
        "id": "xVa0-QidBDgp",
        "outputId": "5b46cf90-2a79-44c1-ef00-73fa668e6cea",
        "colab": {
          "base_uri": "https://localhost:8080/",
          "height": 35
        }
      },
      "source": [
        "!pip install pymysql"
      ],
      "execution_count": 1,
      "outputs": [
        {
          "output_type": "stream",
          "text": [
            "Requirement already satisfied: pymysql in /usr/local/lib/python3.6/dist-packages (0.10.1)\n"
          ],
          "name": "stdout"
        }
      ]
    },
    {
      "cell_type": "code",
      "metadata": {
        "id": "ikD4dI4EaiDH",
        "outputId": "35b32ea6-9db5-4b8f-992b-d25029c6961c",
        "colab": {
          "base_uri": "https://localhost:8080/",
          "height": 446
        }
      },
      "source": [
        "import psycopg2 as ps\n",
        "\n",
        "# Establish the connection\n",
        "conn = ps.connect(dbname='db', user='grok')\n",
        "cursor = conn.cursor()\n",
        "\n",
        "# Execute an SQL query and receive the output\n",
        "cursor.execute('SELECT 2 + 3;')\n",
        "records = cursor.fetchall()\n",
        "\n",
        "print(records)\n"
      ],
      "execution_count": 2,
      "outputs": [
        {
          "output_type": "stream",
          "text": [
            "/usr/local/lib/python3.6/dist-packages/psycopg2/__init__.py:144: UserWarning: The psycopg2 wheel package will be renamed from release 2.8; in order to keep installing from binary please use \"pip install psycopg2-binary\" instead. For details see: <http://initd.org/psycopg/docs/install.html#binary-install-from-pypi>.\n",
            "  \"\"\")\n"
          ],
          "name": "stderr"
        },
        {
          "output_type": "error",
          "ename": "OperationalError",
          "evalue": "ignored",
          "traceback": [
            "\u001b[0;31m---------------------------------------------------------------------------\u001b[0m",
            "\u001b[0;31mOperationalError\u001b[0m                          Traceback (most recent call last)",
            "\u001b[0;32m<ipython-input-2-eb6eabae16f0>\u001b[0m in \u001b[0;36m<module>\u001b[0;34m()\u001b[0m\n\u001b[1;32m      2\u001b[0m \u001b[0;34m\u001b[0m\u001b[0m\n\u001b[1;32m      3\u001b[0m \u001b[0;31m# Establish the connection\u001b[0m\u001b[0;34m\u001b[0m\u001b[0;34m\u001b[0m\u001b[0;34m\u001b[0m\u001b[0m\n\u001b[0;32m----> 4\u001b[0;31m \u001b[0mconn\u001b[0m \u001b[0;34m=\u001b[0m \u001b[0mps\u001b[0m\u001b[0;34m.\u001b[0m\u001b[0mconnect\u001b[0m\u001b[0;34m(\u001b[0m\u001b[0mdbname\u001b[0m\u001b[0;34m=\u001b[0m\u001b[0;34m'db'\u001b[0m\u001b[0;34m,\u001b[0m \u001b[0muser\u001b[0m\u001b[0;34m=\u001b[0m\u001b[0;34m'grok'\u001b[0m\u001b[0;34m)\u001b[0m\u001b[0;34m\u001b[0m\u001b[0;34m\u001b[0m\u001b[0m\n\u001b[0m\u001b[1;32m      5\u001b[0m \u001b[0mcursor\u001b[0m \u001b[0;34m=\u001b[0m \u001b[0mconn\u001b[0m\u001b[0;34m.\u001b[0m\u001b[0mcursor\u001b[0m\u001b[0;34m(\u001b[0m\u001b[0;34m)\u001b[0m\u001b[0;34m\u001b[0m\u001b[0;34m\u001b[0m\u001b[0m\n\u001b[1;32m      6\u001b[0m \u001b[0;34m\u001b[0m\u001b[0m\n",
            "\u001b[0;32m/usr/local/lib/python3.6/dist-packages/psycopg2/__init__.py\u001b[0m in \u001b[0;36mconnect\u001b[0;34m(dsn, connection_factory, cursor_factory, **kwargs)\u001b[0m\n\u001b[1;32m    128\u001b[0m \u001b[0;34m\u001b[0m\u001b[0m\n\u001b[1;32m    129\u001b[0m     \u001b[0mdsn\u001b[0m \u001b[0;34m=\u001b[0m \u001b[0m_ext\u001b[0m\u001b[0;34m.\u001b[0m\u001b[0mmake_dsn\u001b[0m\u001b[0;34m(\u001b[0m\u001b[0mdsn\u001b[0m\u001b[0;34m,\u001b[0m \u001b[0;34m**\u001b[0m\u001b[0mkwargs\u001b[0m\u001b[0;34m)\u001b[0m\u001b[0;34m\u001b[0m\u001b[0;34m\u001b[0m\u001b[0m\n\u001b[0;32m--> 130\u001b[0;31m     \u001b[0mconn\u001b[0m \u001b[0;34m=\u001b[0m \u001b[0m_connect\u001b[0m\u001b[0;34m(\u001b[0m\u001b[0mdsn\u001b[0m\u001b[0;34m,\u001b[0m \u001b[0mconnection_factory\u001b[0m\u001b[0;34m=\u001b[0m\u001b[0mconnection_factory\u001b[0m\u001b[0;34m,\u001b[0m \u001b[0;34m**\u001b[0m\u001b[0mkwasync\u001b[0m\u001b[0;34m)\u001b[0m\u001b[0;34m\u001b[0m\u001b[0;34m\u001b[0m\u001b[0m\n\u001b[0m\u001b[1;32m    131\u001b[0m     \u001b[0;32mif\u001b[0m \u001b[0mcursor_factory\u001b[0m \u001b[0;32mis\u001b[0m \u001b[0;32mnot\u001b[0m \u001b[0;32mNone\u001b[0m\u001b[0;34m:\u001b[0m\u001b[0;34m\u001b[0m\u001b[0;34m\u001b[0m\u001b[0m\n\u001b[1;32m    132\u001b[0m         \u001b[0mconn\u001b[0m\u001b[0;34m.\u001b[0m\u001b[0mcursor_factory\u001b[0m \u001b[0;34m=\u001b[0m \u001b[0mcursor_factory\u001b[0m\u001b[0;34m\u001b[0m\u001b[0;34m\u001b[0m\u001b[0m\n",
            "\u001b[0;31mOperationalError\u001b[0m: could not connect to server: No such file or directory\n\tIs the server running locally and accepting\n\tconnections on Unix domain socket \"/var/run/postgresql/.s.PGSQL.5432\"?\n"
          ]
        }
      ]
    },
    {
      "cell_type": "code",
      "metadata": {
        "id": "Q5KfqzuhRS5X"
      },
      "source": [
        "from sqlalchemy import create_engine\n",
        "\n",
        "MYSQL_HOSTNAME = 'aika-prod.ckfjfiqb1qvb.us-east-2.rds.amazonaws.com' # you probably don't need to change this\n",
        "MYSQL_USER = 'FILL_IN'\n",
        "MYSQL_PASSWORD = 'FILL_IN'\n",
        "MYSQL_DATABASE = 'FILL_IN'\n",
        "\n",
        "connection_string = f'mysql+pymysql://{MYSQL_USER}:{MYSQL_PASSWORD}@{MYSQL_HOSTNAME}/{MYSQL_DATABASE}'\n",
        "connect_args = {'ssl': {'ca': '/content/rds-ca-2015-root.pem'}}\n",
        "\n",
        "db = create_engine(connection_string, connect_args=connect_args)"
      ],
      "execution_count": null,
      "outputs": []
    },
    {
      "cell_type": "markdown",
      "metadata": {
        "id": "VMmkGU41YVVC"
      },
      "source": [
        "Then, you can run SQL queries using the ```pandas read_sql``` function. Here is a sample query:"
      ]
    },
    {
      "cell_type": "code",
      "metadata": {
        "id": "4nZCRWLURVDo"
      },
      "source": [
        "import pandas as pd\n",
        "\n",
        "query = \"\"\"SELECT * FROM Planets;\"\"\".format(MYSQL_DATABASE)\n",
        "\n",
        "planets_df = pd.read_sql(query, con=db)"
      ],
      "execution_count": null,
      "outputs": []
    },
    {
      "cell_type": "markdown",
      "metadata": {
        "id": "iC9KmgiqZM5N"
      },
      "source": [
        "Print the dataframe"
      ]
    },
    {
      "cell_type": "code",
      "metadata": {
        "id": "UH3xT6lFDRdx"
      },
      "source": [
        "planets_df"
      ],
      "execution_count": null,
      "outputs": []
    },
    {
      "cell_type": "markdown",
      "metadata": {
        "id": "XPIJUOXzR1p_"
      },
      "source": [
        "#### PART 1: Planet statistics *(40 pts.)*\n",
        "\n",
        "Let's analyse the size of the unconfirmed exoplanets. Your task is to write a query that calculates the:\n",
        "\n",
        "* minimum radius;\n",
        "* maximum radius;\n",
        "* average radius; and\n",
        "* standard deviation of the radii\n",
        "\n",
        "of unconfirmed planets (with a NULL value in kepler_name) in the Planet table. It should look like this on the example data:\n",
        "```\n",
        "+------+---------+------------------+------------------+\n",
        "| min  |   max   |       avg        |      stddev      |\n",
        "+------+---------+------------------+------------------+\n",
        "| 0.65 | 3462.25 | 275.517333333333 | 888.709924452829 |\n",
        "+------+---------+------------------+------------------+\n",
        "(1 row)\n",
        "```"
      ]
    },
    {
      "cell_type": "code",
      "metadata": {
        "id": "oHDW0aQsCCaO"
      },
      "source": [
        "select min(radius), max(radius), avg(radius), stddev(radius) \n",
        "from Planet\n",
        "where kepler_name is null;"
      ],
      "execution_count": null,
      "outputs": []
    },
    {
      "cell_type": "markdown",
      "metadata": {
        "id": "UNaYs-MfeDRl"
      },
      "source": [
        "#### PART 2: Multi-planet systems *(60 pts.)*\n",
        "\n",
        "You need to find out how many planets in the Planet database are in a multi-planet system. Planets sharing the same star will have the same kepler_id, but different koi_name values.\n",
        "\n",
        "Your query should return a table in which each row contains the kepler_id of the star and the number of planets orbiting that star (i.e. that share this kepler_id).\n",
        "\n",
        "Limit your results to counts above one and order the rows in descending order based on the number of planets.\n",
        "\n",
        "The results should look like this:\n",
        "```\n",
        "+-----------+-------+\n",
        "| kepler_id | count |\n",
        "+-----------+-------+\n",
        "|   4139816 |     4 |\n",
        "|   8395660 |     4 |\n",
        "|  10910878 |     3 |\n",
        "|  10872983 |     3 |\n",
        "|   5358241 |     3 |\n",
        "|  10601284 |     3 |\n",
        "|   3832474 |     3 |\n",
        "|  11754553 |     3 |\n",
        "|   9579641 |     3 |\n",
        "|  12366084 |     2 |\n",
        "|  11018648 |     2 |\n",
        "|  11918099 |     2 |\n",
        "|  12066335 |     2 |\n",
        "|  10187017 |     2 |\n",
        "|  10797460 |     2 |\n",
        "|   3342970 |     2 |\n",
        "|  12470844 |     2 |\n",
        "|   5456651 |     2 |\n",
        "+-----------+-------+\n",
        "(18 rows)\n",
        "```"
      ]
    },
    {
      "cell_type": "code",
      "metadata": {
        "id": "ZI0K7A1wBtdX"
      },
      "source": [
        "select kepler_id, count(koi_name)\n",
        "from Planet\n",
        "group by kepler_id\n",
        "having count(koi_name) > 1\n",
        "order by count(koi_name) desc;"
      ],
      "execution_count": null,
      "outputs": []
    },
    {
      "cell_type": "markdown",
      "metadata": {
        "id": "u8qG6aExd6np"
      },
      "source": [
        "[SCORE BREAKDOWN] \n",
        "\n",
        "Part 1:\n",
        "* Correctness of Code: []/20\n",
        "* Discussion: []/20\n",
        "* Subtotal: []/40\n",
        "\n",
        "Part 2:\n",
        "* Correctness of Code: []/30\n",
        "* Discussion: []/30\n",
        "* Subtotal: []/60\n",
        "\n",
        "Feedback: "
      ]
    }
  ]
}