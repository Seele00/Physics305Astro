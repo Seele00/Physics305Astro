{
  "nbformat": 4,
  "nbformat_minor": 0,
  "metadata": {
    "colab": {
      "name": "Phys305Astro lab_assignment_module2.ipynb",
      "provenance": [],
      "include_colab_link": true
    },
    "kernelspec": {
      "name": "python3",
      "display_name": "Python 3"
    }
  },
  "cells": [
    {
      "cell_type": "markdown",
      "metadata": {
        "id": "view-in-github",
        "colab_type": "text"
      },
      "source": [
        "<a href=\"https://colab.research.google.com/github/Seele00/Physics305Astro/blob/master/Phys305Astro_lab_assignment_module2.ipynb\" target=\"_parent\"><img src=\"https://colab.research.google.com/assets/colab-badge.svg\" alt=\"Open In Colab\"/></a>"
      ]
    },
    {
      "cell_type": "markdown",
      "metadata": {
        "id": "ST5d6dw3dLZh",
        "colab_type": "text"
      },
      "source": [
        "# **PS305 Lab Assignment** \n",
        "## Module 2: Cross-matching with binary search\n",
        "\n",
        "_Instructions_: Answer each part of the assignment as completely as you can. Discuss **all** your code and results as clearly and concisely as possible. \n",
        "\n",
        "_Scoring Criteria_: 50% - *correctness of code*; 50% - *discussion of the code and results*. Maximum score is **100 points** (Parts 1, 2, and 3 are worth 30, 50, and 20 points, respectively).\n",
        "\n",
        "_Due Date_: **5PM of October 8 (Thu)**\n",
        "\n",
        "_Credit_: This assignment is based on the Week 2 module of the Coursera course \"Data-driven Astronomy\", \"Cross-matching with k-d trees\" ([link](https://www.coursera.org/learn/data-driven-astronomy/home/welcome))"
      ]
    },
    {
      "cell_type": "markdown",
      "metadata": {
        "id": "iZZaEzKHdVYG",
        "colab_type": "text"
      },
      "source": [
        "### Student Information \n",
        "\n",
        "_Full Name (Last Name, First Name)_: \\\n",
        "_Student No._:\\\n",
        "_Section_:"
      ]
    },
    {
      "cell_type": "markdown",
      "metadata": {
        "id": "Xv1STpPodaDL",
        "colab_type": "text"
      },
      "source": [
        "### Submission Information\n",
        "\n",
        "_Date and Time Submitted (most recent upload)_: \n",
        "\n",
        "**HONOR PLEDGE** I affirm that I have upheld the highest principles of honesty and integrity in my academic work and that this lab assignment is my own work.\n",
        "\n",
        "**Sign here with your full name:** "
      ]
    },
    {
      "cell_type": "markdown",
      "metadata": {
        "id": "8zw1kC_rdoHT",
        "colab_type": "text"
      },
      "source": [
        "### Grading Information (c/o Instructor)\n",
        "\n",
        "TOTAL SCORE: **[]**/100\n",
        "\n",
        "Score breakdown:\n",
        "* Part 1 - []/30\n",
        "* Part 2 - []/50\n",
        "* Part 3 - []/20\n",
        "\n",
        "_Date and Time Scored (MM/DD/YYYY HH:MM AM/PM):_ 0"
      ]
    },
    {
      "cell_type": "markdown",
      "metadata": {
        "id": "y3w1K_wh1YOR",
        "colab_type": "text"
      },
      "source": [
        "#### PART 1: Get angular distances *(30 pts.)*\n",
        "\n",
        "Write a function ```angular_dist``` that outputs the angular distance separation (in radians) between a given RA and declination  ```(ra1, dec1)``` and an array of coordinates, given by ```ra2s, dec2s```. \n",
        "\n",
        "Here's an example of how your function should work:\n",
        "\n",
        "```\n",
        ">>> import numpy as np\n",
        ">>> ra1, dec1 = np.radians([180, 30])\n",
        ">>> cat2 = [[180, 32], [55, 10], [302, -44]]\n",
        ">>> cat2 = np.radians(cat2)\n",
        ">>> ra2s, dec2s = cat2[:,0], cat2[:,1]\n",
        ">>> dists = angular_dist(ra1, dec1, ra2s, dec2s)\n",
        ">>> print(np.degrees(dists))\n",
        "array([   2.        ,  113.72587199,  132.64478705])\n",
        "```"
      ]
    },
    {
      "cell_type": "code",
      "metadata": {
        "id": "UH3xT6lFDRdx",
        "colab_type": "code",
        "colab": {}
      },
      "source": [
        ""
      ],
      "execution_count": null,
      "outputs": []
    },
    {
      "cell_type": "markdown",
      "metadata": {
        "id": "UNaYs-MfeDRl",
        "colab_type": "text"
      },
      "source": [
        "#### PART 2: Write a crossmatch function *(50 pts.)*\n",
        "\n",
        "Now, you will use the ```angular_dist``` function in Part 1 to write a crossmatch function for two catalogues to within a maximum radius. The catalogues are 2D NumPy arrays of RA and declination in degrees. \n",
        "\n",
        "Your function should convert all the coordinates to radians before it starts crossmatching. It should return 3 values:\n",
        "\n",
        "* A list of tuples of matched IDs and their distance in degrees;\n",
        "* A list of unmatched IDs from the first catalogue;\n",
        "* The time taken (in seconds) to run the crossmatcher.\n",
        "\n",
        "Both catalogues are given as an N×2 NumPy array of floats. Each row contains the coordinates of a single object. The two columns are the RA and declination.\n",
        "\n",
        "An object's ID is the index of its row, starting at 0. Your function should work with input catalogues with any number of objects.\n",
        "\n",
        "Here's an example of how your function should work:\n",
        "\n",
        "```\n",
        "cat1 = np.array([[180, 30], [45, 10], [300, -45]])\n",
        "cat2 = np.array([[180, 32], [55, 10], [302, -44]])\n",
        "matches, no_matches, time_taken = crossmatch(cat1, cat2, 5)\n",
        ">>> print('matches:', matches)\n",
        "matches: [(0, 0, 2.0000000000000027), (2, 2, 1.7420109046547023)]\n",
        ">>> print('unmatched:', no_matches)\n",
        "unmatched: [1]\n",
        ">>> print('time taken:', time_taken)\n",
        "time taken: 0.00022228599118534476\n",
        "```\n",
        "\n",
        "To make this function efficient, you should only loop through objects in the second catalogue with declinations between ```dec1 - max_radius``` and ```dec1 + max_radius``` using binary search.\n",
        "\n",
        "Your crossmatch should use ```np.searchsorted``` to find the starting point (just before ```dec1 - max_radius```) and then break out of the loop when the declination reaches ```dec1 + max_radius```. Note that ```np.searchsorted``` assumes that the input array is sorted ([documentation](https://numpy.org/doc/stable/reference/generated/numpy.searchsorted.html)). "
      ]
    },
    {
      "cell_type": "code",
      "metadata": {
        "id": "ZI0K7A1wBtdX",
        "colab_type": "code",
        "colab": {}
      },
      "source": [
        ""
      ],
      "execution_count": null,
      "outputs": []
    },
    {
      "cell_type": "markdown",
      "metadata": {
        "id": "-S1JBq4A4CrG",
        "colab_type": "text"
      },
      "source": [
        "#### PART 3: Test your function for a random catalog *(20 points)*\n",
        "\n",
        "Use the ```create_cat``` function and sample code below to test your crossmatch function on 3 random catalogs of different sizes. Comment on how the time taken changes with catalog size.\n",
        "\n",
        "```\n",
        "  # A function to create a random catalogue of size n\n",
        "  def create_cat(n):\n",
        "    ras = np.random.uniform(0, 360, size=(n, 1))\n",
        "    decs = np.random.uniform(-90, 90, size=(n, 1))\n",
        "    return np.hstack((ras, decs))\n",
        "\n",
        "  # Test your function on random inputs\n",
        "  np.random.seed(0)\n",
        "  cat1 = create_cat(10)\n",
        "  cat2 = create_cat(20)\n",
        "  matches, no_matches, time_taken = crossmatch(cat1, cat2, 5)\n",
        "  print('matches:', matches)\n",
        "  print('unmatched:', no_matches)\n",
        "  print('time taken:', time_taken)\n",
        " ``` "
      ]
    },
    {
      "cell_type": "code",
      "metadata": {
        "id": "_9BVANOFDvlD",
        "colab_type": "code",
        "colab": {}
      },
      "source": [
        ""
      ],
      "execution_count": null,
      "outputs": []
    },
    {
      "cell_type": "markdown",
      "metadata": {
        "id": "u8qG6aExd6np",
        "colab_type": "text"
      },
      "source": [
        "[SCORE BREAKDOWN] \n",
        "\n",
        "Part 1:\n",
        "* Correctness of Code: []/15\n",
        "* Discussion: []/15\n",
        "* Subtotal: []/30\n",
        "\n",
        "Part 2:\n",
        "* Correctness of Code: []/25\n",
        "* Discussion: []/25\n",
        "* Subtotal: []/50\n",
        "\n",
        "Part 3:\n",
        "* Correctness of Code: []/10\n",
        "* Discussion: []/10\n",
        "* Subtotal: []/20\n",
        "\n",
        "Feedback: "
      ]
    }
  ]
}