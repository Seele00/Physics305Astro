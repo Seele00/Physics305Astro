{
  "nbformat": 4,
  "nbformat_minor": 0,
  "metadata": {
    "colab": {
      "name": "Phys305Astro lab_assignment_module2.ipynb",
      "provenance": [],
      "collapsed_sections": [],
      "include_colab_link": true
    },
    "kernelspec": {
      "name": "python3",
      "display_name": "Python 3"
    }
  },
  "cells": [
    {
      "cell_type": "markdown",
      "metadata": {
        "id": "view-in-github",
        "colab_type": "text"
      },
      "source": [
        "<a href=\"https://colab.research.google.com/github/Seele00/Physics305Astro/blob/master/Phys305Astro_lab_assignment_module2.ipynb\" target=\"_parent\"><img src=\"https://colab.research.google.com/assets/colab-badge.svg\" alt=\"Open In Colab\"/></a>"
      ]
    },
    {
      "cell_type": "markdown",
      "metadata": {
        "id": "ST5d6dw3dLZh"
      },
      "source": [
        "# **PS305 Lab Assignment** \n",
        "## Module 2: Cross-matching with binary search\n",
        "\n",
        "_Instructions_: Answer each part of the assignment as completely as you can. Discuss **all** your code and results as clearly and concisely as possible. \n",
        "\n",
        "_Scoring Criteria_: 50% - *correctness of code*; 50% - *discussion of the code and results*. Maximum score is **100 points** (Parts 1, 2, and 3 are worth 30, 50, and 20 points, respectively).\n",
        "\n",
        "_Due Date_: **5PM of October 8 (Thu)**\n",
        "\n",
        "_Credit_: This assignment is based on the Week 2 module of the Coursera course \"Data-driven Astronomy\", \"Cross-matching with k-d trees\" ([link](https://www.coursera.org/learn/data-driven-astronomy/home/welcome))"
      ]
    },
    {
      "cell_type": "markdown",
      "metadata": {
        "id": "iZZaEzKHdVYG"
      },
      "source": [
        "### Student Information \n",
        "\n",
        "_Full Name (Last Name, First Name)_: Dizon, Gabriel Luis\\\n",
        "_Student No._: 2011-18116\\\n",
        "_Section_: WFY"
      ]
    },
    {
      "cell_type": "markdown",
      "metadata": {
        "id": "Xv1STpPodaDL"
      },
      "source": [
        "### Submission Information\n",
        "\n",
        "_Date and Time Submitted (most recent upload)_: \n",
        "\n",
        "**HONOR PLEDGE** I affirm that I have upheld the highest principles of honesty and integrity in my academic work and that this lab assignment is my own work.\n",
        "\n",
        "**Sign here with your full name:** Gabriel Luis Dizon"
      ]
    },
    {
      "cell_type": "markdown",
      "metadata": {
        "id": "8zw1kC_rdoHT"
      },
      "source": [
        "### Grading Information (c/o Instructor)\n",
        "\n",
        "TOTAL SCORE: **[]**/100\n",
        "\n",
        "Score breakdown:\n",
        "* Part 1 - []/30\n",
        "* Part 2 - []/50\n",
        "* Part 3 - []/20\n",
        "\n",
        "_Date and Time Scored (MM/DD/YYYY HH:MM AM/PM):_ 0"
      ]
    },
    {
      "cell_type": "markdown",
      "metadata": {
        "id": "y3w1K_wh1YOR"
      },
      "source": [
        "#### PART 1: Get angular distances *(30 pts.)*\n",
        "\n",
        "Write a function ```angular_dist``` that outputs the angular distance separation (in radians) between a given RA and declination  ```(ra1, dec1)``` and an array of coordinates, given by ```ra2s, dec2s```. \n",
        "\n",
        "Here's an example of how your function should work:\n",
        "\n",
        "```\n",
        ">>> import numpy as np\n",
        ">>> ra1, dec1 = np.radians([180, 30])\n",
        ">>> cat2 = [[180, 32], [55, 10], [302, -44]]\n",
        ">>> cat2 = np.radians(cat2)\n",
        ">>> ra2s, dec2s = cat2[:,0], cat2[:,1]\n",
        ">>> dists = angular_dist(ra1, dec1, ra2s, dec2s)\n",
        ">>> print(np.degrees(dists))\n",
        "array([   2.        ,  113.72587199,  132.64478705])\n",
        "```"
      ]
    },
    {
      "cell_type": "markdown",
      "metadata": {
        "id": "1PsiBGcGXHCo"
      },
      "source": [
        "# Discusssion for Part 1\n",
        "The code below for `angular_dist` takes radian inputs of the RA and declination `r1` and `d1` from the first catalogue and takes radian arrays `r2s` and `d2s` from the second catalogue. Note that `r1` and `d1` are single-element inputs. Thus, if your first catalogue contains a list of coordinates, then you must go through each coordinate first before inputting it into the function."
      ]
    },
    {
      "cell_type": "markdown",
      "metadata": {
        "id": "O7WEiawedRRV"
      },
      "source": [
        "To compute for the angular distance $d$ between two points $(\\alpha_1, \\delta_1)$ and $(\\alpha_2, \\delta_2)$, we start with the following quantities:\n",
        "\\begin{align}\n",
        "a &= \\sin^2\\left(\\frac{|\\delta_1-\\delta_2|}{2}\\right),\\\\\n",
        "b &= \\cos\\delta_1\\cos\\delta_2\\sin^2\\left(\\frac{|\\alpha_1-\\alpha_2|}{2}\\right),\n",
        "\\end{align}\n",
        "where $\\alpha_i, \\delta_i$ are the RA and declination coordinates, respectively.\n",
        "\n",
        "$d$ can then be calculated as a function of $a$ and $b$:\n",
        "\\begin{equation}\n",
        "d = 2\\sin^{-1}\\sqrt{a+b}.\n",
        "\\end{equation}\n",
        "\n",
        "Note that $d$ here is given in _radians_. The `angular_dist` function below outputs an array of angular distances between the `(r1, d1)` coordinate from the first catalogue and the `(r2s, d2s)` coordinates from the second catalogue."
      ]
    },
    {
      "cell_type": "code",
      "metadata": {
        "id": "UH3xT6lFDRdx"
      },
      "source": [
        "import numpy as np\n",
        "\n",
        "def angular_dist(r1, d1, r2s, d2s):\n",
        "  distances = [] #initialize array of angular distances\n",
        "  \n",
        "  #takes angular distance of (r1, d1) to each element in the second catalogue, appends to distance array\n",
        "  for i in range(r2s.size):\n",
        "    a = (np.sin(abs(d1 - d2s[i])/2))**2\n",
        "    b = np.cos(d1)*np.cos(d2s[i])*(np.sin(abs(r1 - r2s[i])/2))**2\n",
        "  \n",
        "    d = 2*np.arcsin(np.sqrt(a + b))\n",
        "    distances.append(d)\n",
        "\n",
        "  return np.array(distances)"
      ],
      "execution_count": null,
      "outputs": []
    },
    {
      "cell_type": "markdown",
      "metadata": {
        "id": "PI8aZQcKi38-"
      },
      "source": [
        "To test our function, we use the test case outlined above. As expected, `angular_dist` gives the correct output."
      ]
    },
    {
      "cell_type": "code",
      "metadata": {
        "id": "rQeDW_bJ2FmD",
        "outputId": "db244000-b3f6-4ed5-d9ec-16af88922de4",
        "colab": {
          "base_uri": "https://localhost:8080/"
        }
      },
      "source": [
        "ra1, dec1 = np.radians([180, 30])\n",
        "cat2 = [[180, 32], [55, 10], [302, -44]]\n",
        "cat2 = np.radians(cat2)\n",
        "ra2s, dec2s = cat2[:,0], cat2[:,1]\n",
        "dists = angular_dist(ra1, dec1, ra2s, dec2s)\n",
        "print(np.degrees(dists))"
      ],
      "execution_count": null,
      "outputs": [
        {
          "output_type": "stream",
          "text": [
            "[  2.         113.72587199 132.64478705]\n"
          ],
          "name": "stdout"
        }
      ]
    },
    {
      "cell_type": "markdown",
      "metadata": {
        "id": "UNaYs-MfeDRl"
      },
      "source": [
        "#### PART 2: Write a crossmatch function *(50 pts.)*\n",
        "\n",
        "Now, you will use the ```angular_dist``` function in Part 1 to write a crossmatch function for two catalogues to within a maximum radius. The catalogues are 2D NumPy arrays of RA and declination in degrees. \n",
        "\n",
        "Your function should convert all the coordinates to radians before it starts crossmatching. It should return 3 values:\n",
        "\n",
        "* A list of tuples of matched IDs and their distance in degrees;\n",
        "* A list of unmatched IDs from the first catalogue;\n",
        "* The time taken (in seconds) to run the crossmatcher.\n",
        "\n",
        "Both catalogues are given as an N×2 NumPy array of floats. Each row contains the coordinates of a single object. The two columns are the RA and declination.\n",
        "\n",
        "An object's ID is the index of its row, starting at 0. Your function should work with input catalogues with any number of objects.\n",
        "\n",
        "Here's an example of how your function should work:\n",
        "\n",
        "```\n",
        "cat1 = np.array([[180, 30], [45, 10], [300, -45]])\n",
        "cat2 = np.array([[180, 32], [55, 10], [302, -44]])\n",
        "matches, no_matches, time_taken = crossmatch(cat1, cat2, 5)\n",
        ">>> print('matches:', matches)\n",
        "matches: [(0, 0, 2.0000000000000027), (2, 2, 1.7420109046547023)]\n",
        ">>> print('unmatched:', no_matches)\n",
        "unmatched: [1]\n",
        ">>> print('time taken:', time_taken)\n",
        "time taken: 0.00022228599118534476\n",
        "```\n",
        "\n",
        "To make this function efficient, you should only loop through objects in the second catalogue with declinations between ```dec1 - max_radius``` and ```dec1 + max_radius``` using binary search.\n",
        "\n",
        "Your crossmatch should use ```np.searchsorted``` to find the starting point (just before ```dec1 - max_radius```) and then break out of the loop when the declination reaches ```dec1 + max_radius```. Note that ```np.searchsorted``` assumes that the input array is sorted ([documentation](https://numpy.org/doc/stable/reference/generated/numpy.searchsorted.html)). "
      ]
    },
    {
      "cell_type": "markdown",
      "metadata": {
        "id": "8jqyF1wQjiHp"
      },
      "source": [
        "# Discussion for Part 2\n",
        "\n",
        "The `crossmatch` function below takes three inputs: `c1` contains all the coordinates from the first catalogue, `c2` contains coordinates from the second catalogue, and `max_radius` sets the upper bound of angular distances with which we could say two coordinates are matched. The function assumes that all inputs are in _degrees_, and are converted to radians prior to any significant calculation. \\\n",
        "\n",
        "The function loops over two sets of indices. The first index goes through the coordinates of the first catalogue, where the `minimum` and `maximum` range of values are computed for a particular declination, which is then used by `np.searchsorted` to constrain the search space [1]. `angular_dist` is then used to compute for the angular distances between the $i$th first catalogue coordinate and all the coordinates within the constrained second catalogue.\n",
        "\n",
        "Once all distances for the $i$th first catalogue coordinate are computed, we then check if the distances lie within the `max_radius` specified. If a distance is less than or equal to the maximum radius, then it is considered a \"match\", and the indices of the matched coordinates along with their angular distance (in degrees) are recorded as a tuple. If it is greater than the maximum distance, then the index of the unmatched coordinate from the first catalogue is recorded [1]. The final output returns the matched indices, the unmatched indices, and the time taken to run the entire crossmatching process.\n",
        "\n",
        "-------------------------------------------------------------\n",
        "\n",
        "Note [1] - I am pretty confident that I failed to properly constrain the search space for the second catalogue, for reasons I will outline in the code and discussion below. Nonetheless, I also detail below how I circumvented this issue, and while the code is marginally less efficient than desired, it's still within an order of magnitude of the expected run time."
      ]
    },
    {
      "cell_type": "code",
      "metadata": {
        "id": "ZI0K7A1wBtdX"
      },
      "source": [
        "import time\n",
        "\n",
        "def crossmatch(c1, c2, max_radius):\n",
        "  start_time = time.clock() #starting time index for running crossmatch\n",
        "\n",
        "  #convert all input quantities to radians prior to calculation\n",
        "  c1_rad, c2_rad = np.radians(c1), np.radians(c2)\n",
        "  ra1s, dec1s = c1_rad[:,0], c1_rad[:,1]\n",
        "  ra2s, dec2s = c2_rad[:,0], c2_rad[:,1]\n",
        "\n",
        "  max_radius_rad = np.radians(max_radius)\n",
        "\n",
        "  #initializing the lists for matched and unmatched coordinates\n",
        "  matchlist = []\n",
        "  unmatchlist = []\n",
        "\n",
        "  #initializing a set of indices containing all matched coordinates of the first catalogue\n",
        "  matchset = set()\n",
        "\n",
        "  #crossmatching starts here\n",
        "  for i in range(dec1s.size):\n",
        "    minimum, maximum = dec1s[i] - max_radius, dec1s[i] + max_radius \n",
        "    #define minimum and maximum values to search for within the second catalogue, see discussion below for issues/caveat\n",
        "\n",
        "    start_index, end_index = np.searchsorted(dec2s, minimum), np.searchsorted(dec2s, maximum) \n",
        "    #sets the starting and ending indices with which to slice the second catalogue arrays for optimized searching\n",
        "    \n",
        "    ra_sliced, dec_sliced = ra2s[start_index:end_index], dec2s[start_index:end_index] #sliced second catalogue arrays\n",
        "\n",
        "    dists = angular_dist(ra1s[i], dec1s[i], ra_sliced, dec_sliced) #angular distance calculation\n",
        "\n",
        "    #check if distances are within maximum radius\n",
        "    for k in range(len(dists)):\n",
        "      if dists[k] <= max_radius_rad:\n",
        "        matchlist.append((i, start_index + k, np.degrees(dists[k])))\n",
        "        matchset.add(i)\n",
        "      elif dists[k] > max_radius_rad:\n",
        "        unmatchlist.append(i)\n",
        "  \n",
        "  #unmatchlist likely has duplicate and excess entries because -the search space in the second catalogue wasn't properly constrained-\n",
        "  #to compensate, I define unmatchset as the python set of indices that are tagged unmatched -regardless if they already had a match in matchset-\n",
        "  #I then subtract the elements of unmatchset with matchset to obtain the final list of unmatched indices in final_unmatched\n",
        "  unmatchset = set(unmatchlist)\n",
        "  final_unmatched = np.array(list(unmatchset - matchset))\n",
        "\n",
        "  end_time = time.clock() - start_time #total elapsed time of the crossmatch program\n",
        "\n",
        "  return matchlist, final_unmatched, end_time"
      ],
      "execution_count": null,
      "outputs": []
    },
    {
      "cell_type": "markdown",
      "metadata": {
        "id": "aFnPLkAU-x1q"
      },
      "source": [
        "As pointed out in the code, there is an issue with constraining the search space using the `np.searchsorted` function. I explain the issues in detail in the following. \\\n",
        "\n",
        "Note this section of code defining the minimum and maximum declination to sweep through :\n",
        "```\n",
        "minimum, maximum = dec1s[i] - max_radius, dec1s[i] + max_radius\n",
        "```\n",
        "In the code, all declinations have been converted to radians for calculation. However, `max_radius` is still in degrees, which severely expands the values of `minimum` and `maximum`. As a result, the search space is almost completely unconstrained, and the entire catalogue is effectively searched by the crossmatch function. Attempts have been made to properly implement the constraint using `max_radius_rad`, however it leads to empty arrays for `ra_sliced` and `dec_sliced` (`max_radius_rad` is still used in the distance checking, so the distances shown are still valid). I suspect this is mainly due to the declinations being generally unordered in `dec2s`, and attempts to use `np.argsort` have been unsuccessful, in due part because I do not understand how `argsort` works, and because I could not figure out how to loop through second catalogue without disturbing the original index order."
      ]
    },
    {
      "cell_type": "markdown",
      "metadata": {
        "id": "2YQ_C-qHFglj"
      },
      "source": [
        "-------------------------------------------------------------------------\n",
        "Despite the limitations of the above code, applying the test case still yields the desired results, albeit with slower run time. Note however that the run time is still in the same order of magnitude as the test case above. This is sufficient for the comparisons we will discuss in Part 3 regarding the run time at larger catalogue sizes."
      ]
    },
    {
      "cell_type": "code",
      "metadata": {
        "id": "GMRXUi5S_pvS",
        "outputId": "f33c09c3-41b2-4387-ad83-6b27239e0af4",
        "colab": {
          "base_uri": "https://localhost:8080/"
        }
      },
      "source": [
        "cat1 = np.array([[180, 30], [45, 10], [300, -45]])\n",
        "cat2 = np.array([[180, 32], [55, 10], [302, -44]])\n",
        "matches, no_matches, time_taken = crossmatch(cat1, cat2, 5)\n",
        "print('matches:', matches)\n",
        "print('unmatched:', no_matches)\n",
        "print('time taken:', time_taken)"
      ],
      "execution_count": null,
      "outputs": [
        {
          "output_type": "stream",
          "text": [
            "matches: [(0, 0, 2.0000000000000027), (2, 2, 1.7420109046547023)]\n",
            "unmatched: [1]\n",
            "time taken: 0.0004830000000000112\n"
          ],
          "name": "stdout"
        }
      ]
    },
    {
      "cell_type": "markdown",
      "metadata": {
        "id": "-S1JBq4A4CrG"
      },
      "source": [
        "#### PART 3: Test your function for a random catalog *(20 points)*\n",
        "\n",
        "Use the ```create_cat``` function and sample code below to test your crossmatch function on 3 random catalogs of different sizes. Comment on how the time taken changes with catalog size.\n",
        "\n",
        "```\n",
        "  # A function to create a random catalogue of size n\n",
        "  def create_cat(n):\n",
        "    ras = np.random.uniform(0, 360, size=(n, 1))\n",
        "    decs = np.random.uniform(-90, 90, size=(n, 1))\n",
        "    return np.hstack((ras, decs))\n",
        "\n",
        "  # Test your function on random inputs\n",
        "  np.random.seed(0)\n",
        "  cat1 = create_cat(10)\n",
        "  cat2 = create_cat(20)\n",
        "  matches, no_matches, time_taken = crossmatch(cat1, cat2, 5)\n",
        "  print('matches:', matches)\n",
        "  print('unmatched:', no_matches)\n",
        "  print('time taken:', time_taken)\n",
        " ``` "
      ]
    },
    {
      "cell_type": "markdown",
      "metadata": {
        "id": "AZFPBIHBGrJP"
      },
      "source": [
        "# Discussion for Part 3\n",
        "We use the sample code above to check how fast the crossmatch function runs at different catalog sizes. For an initial run, we generate three random catalogs of size 10, 100, and 1000. The catalogues will be crossmatched following the rule $\\mathrm{Size(Catalogue 1)} <= \\mathrm{Size(Catalogue 2)}$, and the maximum radius is set to 5."
      ]
    },
    {
      "cell_type": "code",
      "metadata": {
        "id": "_9BVANOFDvlD",
        "outputId": "aa6ffbea-5b1d-4511-f89d-320a1e2bce6e",
        "colab": {
          "base_uri": "https://localhost:8080/"
        }
      },
      "source": [
        "# A function to create a random catalogue of size n\n",
        "def create_cat(n):\n",
        "  ras = np.random.uniform(0, 360, size=(n, 1))\n",
        "  decs = np.random.uniform(-90, 90, size=(n, 1))\n",
        "  return np.hstack((ras, decs))\n",
        " \n",
        "# Test your function on random inputs\n",
        "np.random.seed(0)\n",
        "cat1 = create_cat(10)\n",
        "cat2 = create_cat(100)\n",
        "cat3 = create_cat(1000)\n",
        "matches, no_matches, time_taken = crossmatch(cat1, cat2, 5)\n",
        "print('Cat1 (size 10) vs Cat2 (size 100)')\n",
        "print('matches:', matches)\n",
        "print('unmatched:', no_matches)\n",
        "print('time taken:', time_taken)\n",
        "print('--------')\n",
        "matches, no_matches, time_taken = crossmatch(cat1, cat3, 5)\n",
        "print('Cat1 (size 10) vs Cat3 (size 1000)')\n",
        "print('matches:', matches)\n",
        "print('unmatched:', no_matches)\n",
        "print('time taken:', time_taken)\n",
        "print('--------')\n",
        "matches, no_matches, time_taken = crossmatch(cat2, cat3, 5)\n",
        "print('Cat2 (size 100) vs Cat3 (size 1000)')\n",
        "print('matches:', matches)\n",
        "print('unmatched:', no_matches)\n",
        "print('time taken:', time_taken)"
      ],
      "execution_count": null,
      "outputs": [
        {
          "output_type": "stream",
          "text": [
            "Cat1 (size 10) vs Cat2 (size 100)\n",
            "matches: [(2, 16, 3.4654860929393334), (3, 64, 2.3038154656405854), (4, 51, 4.340608056518414), (6, 53, 3.5061935683939476), (6, 84, 4.564232953586541), (9, 45, 3.379093796048554)]\n",
            "unmatched: [0 1 5 7 8]\n",
            "time taken: 0.01607999999999965\n",
            "--------\n",
            "Cat1 (size 10) vs Cat3 (size 1000)\n",
            "matches: [(0, 999, 4.137533313950548), (1, 728, 4.545274510948654), (1, 838, 0.6196275825918045), (1, 966, 3.477406453973277), (3, 396, 3.7976879881065972), (3, 472, 4.768118025520312), (3, 704, 0.891170588505213), (4, 656, 4.823592000356963), (5, 135, 3.854448712398085), (5, 168, 3.0804966705891146), (5, 211, 3.9453752984350947), (5, 427, 1.9256450271122387), (5, 515, 3.8278117046009), (5, 967, 4.95913108363911), (6, 14, 3.6312241647115884), (6, 62, 4.017510097290618), (6, 74, 2.021414260953343), (6, 161, 1.8771005692814084), (6, 187, 4.953758420601603), (6, 250, 1.4995097211029893), (6, 275, 4.8082465176090885), (6, 412, 4.061876105018039), (6, 413, 3.5824290136383827), (6, 492, 4.023302864474216), (6, 513, 4.295431756923759), (6, 527, 4.274765773129621), (6, 587, 2.718902287332172), (6, 597, 1.3974829422197461), (6, 656, 4.363169835543327), (6, 678, 1.4461779080836663), (6, 716, 2.8181262912798837), (6, 726, 4.00809461727503), (6, 727, 2.5036103713540436), (6, 754, 4.448142778946881), (6, 793, 3.4721589735393903), (6, 812, 3.9261282164550066), (6, 835, 3.635617903324522), (6, 934, 4.6004119940693515), (7, 371, 2.3948388160323355), (8, 468, 2.199476638106571), (9, 450, 4.147116628689504), (9, 536, 3.0109064401194567)]\n",
            "unmatched: [2]\n",
            "time taken: 0.12861399999999978\n",
            "--------\n",
            "Cat2 (size 100) vs Cat3 (size 1000)\n",
            "matches: [(0, 227, 3.4917761214878777), (0, 258, 4.91885226849669), (0, 404, 1.3991415553030728), (0, 731, 2.379483508499602), (2, 22, 2.943733046623693), (2, 97, 4.4989690550243004), (2, 263, 2.1615779309923866), (2, 436, 0.781510998998619), (2, 582, 3.1211179582586404), (2, 672, 0.6867704359188362), (2, 825, 2.8170635569721316), (2, 832, 4.292209571695379), (2, 973, 4.316604944149052), (3, 114, 3.9815716925270697), (4, 903, 3.3767927694465945), (5, 984, 4.47864127463295), (6, 14, 2.703983725988562), (6, 101, 3.248328394578408), (6, 102, 1.8517269810216574), (6, 187, 2.4436238005877375), (6, 262, 3.4043702590875378), (6, 275, 3.964047073301397), (6, 290, 4.909500920990585), (6, 354, 3.955180561658385), (6, 367, 3.6152940889175462), (6, 413, 3.5028861949762162), (6, 458, 4.638117779272128), (6, 483, 2.969337433316729), (6, 492, 3.9417473090506707), (6, 513, 2.9789728764591232), (6, 527, 4.95915384926469), (6, 597, 4.321988027296448), (6, 703, 3.760190958353973), (6, 716, 2.9514122657017947), (6, 726, 4.477762538817499), (6, 727, 3.2637702503255808), (6, 754, 2.9975463193325877), (6, 772, 2.689759192783392), (6, 794, 3.162541516034031), (6, 800, 3.9365820653416495), (6, 812, 3.3762451639429796), (6, 835, 3.443556314012579), (6, 890, 4.844431622957443), (6, 902, 4.936180353935586), (6, 934, 4.318765853323564), (6, 954, 2.9709670523309626), (6, 961, 4.372907379228948), (6, 978, 3.5730629752613683), (7, 254, 3.8211531658233198), (7, 319, 2.0900972654098546), (8, 388, 2.8660144116139135), (8, 773, 4.7250331075811856), (8, 896, 1.3445218335256157), (9, 147, 4.891549973021451), (9, 795, 3.440661050671736), (9, 963, 2.5379911413337046), (10, 100, 2.026644389608863), (10, 856, 4.0376000138990635), (10, 882, 1.4290031043102207), (12, 714, 3.7651244324107638), (13, 695, 3.0153564149192866), (14, 302, 4.763810082844213), (14, 477, 0.7507703201656277), (14, 842, 4.749958717455154), (14, 876, 2.447015753560229), (17, 340, 2.3548633635324308), (18, 251, 1.7154718481579387), (19, 633, 4.963517149654861), (20, 109, 3.7033858994940054), (20, 241, 2.406587180075549), (20, 305, 2.544960900819081), (20, 378, 3.916636861017069), (20, 395, 3.3430474609878824), (20, 480, 1.714164835971872), (20, 536, 2.6656049019709775), (20, 735, 3.9584839501671976), (21, 132, 3.0167267550929906), (21, 889, 2.2288693316493124), (22, 633, 1.9988728083669252), (23, 48, 0.886087403362489), (23, 713, 4.993178755524167), (24, 94, 3.0156234381927383), (24, 318, 1.5722838140233912), (24, 426, 4.01683132303246), (24, 455, 3.4227075389628836), (26, 11, 0.8775470021815851), (26, 387, 3.4065908264995404), (26, 476, 2.853277593620611), (26, 740, 4.647458324977949), (27, 71, 4.95320516567127), (27, 233, 2.181359728788782), (27, 380, 4.115106542175932), (27, 638, 4.945073637145519), (27, 686, 0.9922682443967377), (27, 988, 4.518677706674464), (28, 758, 4.3424181455536575), (29, 0, 3.0869523792321223), (29, 1, 3.402631509580658), (29, 2, 1.1502337273745717), (29, 45, 3.9124626456728335), (29, 65, 3.024027307033071), (29, 78, 0.8776443139694166), (29, 99, 1.1841225905292398), (29, 112, 3.2383391457495723), (29, 177, 2.424537665069683), (29, 184, 1.9410827022214001), (29, 207, 0.4625755726946129), (29, 240, 2.8098039705550186), (29, 274, 2.9384337599840302), (29, 288, 3.358788390809496), (29, 299, 3.937960917305092), (29, 311, 2.931110640725285), (29, 331, 0.37875526834715734), (29, 363, 3.8314484858726274), (29, 368, 0.38620805911840134), (29, 384, 1.6870612359774237), (29, 406, 2.136067274871487), (29, 470, 3.280726931874164), (29, 545, 4.881289074597409), (29, 562, 3.9274362404712733), (29, 599, 1.8649394270846387), (29, 708, 3.2002708553768726), (29, 737, 0.2738159874536016), (29, 811, 3.0252503213584387), (29, 818, 3.793683772767917), (29, 830, 4.372882857503532), (29, 884, 4.70203525966081), (29, 907, 1.8833657646787254), (29, 931, 3.297235126393008), (29, 953, 2.2379075941441187), (29, 958, 4.926850113330379), (30, 431, 1.9090997926009088), (31, 96, 3.6539967461973966), (31, 105, 2.5835888695201734), (31, 332, 3.7850287251462147), (31, 493, 4.995009481725893), (31, 541, 4.344385097151091), (32, 66, 4.23302285265299), (32, 379, 3.225447742466033), (32, 507, 0.7862162495374204), (32, 770, 4.717047845476633), (32, 813, 4.9757798961657915), (33, 394, 4.984624911133313), (34, 11, 3.4803007342850374), (34, 387, 4.876094329401619), (34, 476, 3.483789261747704), (34, 734, 4.0304997444291635), (34, 740, 1.5592598952421768), (35, 862, 3.371465504095303), (35, 959, 4.600125693402102), (36, 58, 4.8513386354939305), (36, 94, 4.574485464406213), (36, 318, 4.147116606507206), (36, 455, 1.9374958851748587), (36, 467, 3.868416014702488), (37, 365, 3.7801897265742603), (37, 577, 4.172175012939733), (38, 17, 1.364992847702132), (38, 888, 2.482535467982367), (39, 18, 4.139530179321281), (39, 136, 3.1823272911973497), (39, 195, 1.7548008229697538), (39, 278, 4.830644472944095), (39, 313, 2.895189381355579), (39, 336, 2.07743589511186), (39, 807, 4.511288750326484), (39, 922, 4.446695635980607), (39, 950, 4.987768874992166), (40, 849, 3.495486675326586), (41, 903, 3.34614996345853), (42, 321, 4.471109591062479), (43, 862, 2.868028759132007), (43, 959, 1.294203396033645), (44, 2, 3.2950559284686665), (44, 28, 1.6727280772928668), (44, 65, 1.7452092402561517), (44, 78, 4.345867549167369), (44, 112, 3.406155045696447), (44, 177, 3.7308187929049557), (44, 207, 4.172770015541755), (44, 240, 2.2255812356059317), (44, 288, 1.661121571451517), (44, 311, 3.527113213750621), (44, 331, 4.169426993948608), (44, 363, 3.0689492594611174), (44, 368, 4.236060176937732), (44, 425, 3.193364203521022), (44, 592, 4.868786141379624), (44, 621, 1.1721137757879136), (44, 737, 4.563481789660647), (44, 748, 4.717595844961758), (44, 811, 3.182915443183202), (44, 818, 1.8664603225731504), (44, 830, 1.928219835726855), (44, 866, 4.83968957693061), (44, 887, 4.358486835382117), (44, 972, 2.9118507186385045), (45, 281, 3.461761614047182), (45, 450, 4.93033721082301), (45, 547, 2.842023237509835), (45, 928, 3.369641295783621), (46, 14, 2.796389101668224), (46, 51, 4.50981150562895), (46, 62, 3.8096355872113583), (46, 102, 3.156528284887338), (46, 250, 4.260988227316696), (46, 354, 2.617840069897226), (46, 413, 2.129503288531348), (46, 463, 4.211134162206923), (46, 492, 1.4834082946148193), (46, 527, 1.2555138370316619), (46, 584, 0.7460110038168465), (46, 597, 4.357192200808172), (46, 703, 1.03376029969097), (46, 716, 4.792113882053954), (46, 726, 1.3872970236915823), (46, 727, 3.7756036460829128), (46, 754, 1.9017158670653935), (46, 794, 4.375079583924179), (46, 812, 1.9133642972654585), (46, 835, 2.1198261884846596), (46, 854, 3.7717339769605127), (46, 902, 4.264605892710234), (46, 934, 0.8267800286706196), (46, 935, 4.876071507050043), (46, 954, 2.256030155938076), (46, 961, 2.2043397109695895), (46, 978, 4.845711891592969), (48, 479, 1.3357585105133252), (49, 21, 3.9573651915231074), (49, 93, 1.4068872860872044), (49, 622, 2.1745924827546035), (50, 422, 2.50998074119733), (51, 68, 1.8017347326288211), (51, 161, 4.377371557370997), (51, 412, 2.8680698521783365), (51, 656, 2.6522522818340404), (51, 793, 2.7929426337820673), (51, 995, 2.115217560202631), (52, 528, 2.6189131017150387), (53, 14, 4.035074843806464), (53, 62, 0.5886599488887155), (53, 74, 2.498910148969622), (53, 153, 3.396884045398317), (53, 161, 4.34672508109919), (53, 250, 2.016830860381146), (53, 413, 3.2767243356897793), (53, 463, 4.405441853991238), (53, 492, 3.0629320188731444), (53, 527, 2.3677876777459206), (53, 584, 3.7158119821822444), (53, 597, 3.4770096019226835), (53, 678, 4.942073573528463), (53, 703, 4.131336687762003), (53, 716, 4.963804029455271), (53, 726, 2.5959249903599617), (53, 727, 3.9016413308752194), (53, 754, 4.049274268087379), (53, 812, 3.4946697742566917), (53, 835, 3.343142938302066), (53, 854, 2.6744193366844784), (53, 934, 3.1451541494355326), (54, 243, 4.7050980594624106), (54, 419, 1.9627342730912574), (54, 500, 3.5788500781669126), (55, 824, 4.45226442956751), (56, 661, 3.9920341735520126), (57, 71, 3.564875245927407), (57, 233, 2.4382496620623457), (57, 380, 4.899965908232504), (57, 383, 4.88701574533186), (57, 638, 3.6086580445716834), (57, 686, 0.9300823466621921), (57, 988, 2.803236647068328), (58, 757, 3.5791904705045736), (58, 758, 2.593597259397405), (59, 91, 4.154521287667897), (59, 101, 1.073237857785334), (59, 102, 3.509627964034353), (59, 187, 3.765389142515016), (59, 262, 1.7281168146982433), (59, 290, 2.5342879619250933), (59, 367, 2.223102022233244), (59, 458, 2.2615022727789955), (59, 483, 1.235859796115975), (59, 513, 4.536823690644088), (59, 772, 3.7174018952052874), (59, 794, 3.3031001115971104), (59, 800, 4.371355989059643), (59, 890, 4.1188613419309394), (59, 954, 4.497406151839252), (59, 978, 3.3708494963650244), (60, 555, 4.483299997397273), (60, 725, 3.912901184945368), (60, 918, 2.9669864148287366), (61, 627, 2.614531357357351), (63, 783, 4.662236410435428), (64, 396, 2.0877609807970385), (64, 704, 1.48582525693479), (65, 100, 1.6705745484253312), (65, 856, 3.3181526355826065), (65, 882, 0.6495636862714315), (67, 394, 0.9907203563647405), (68, 316, 1.4800140343436805), (68, 673, 4.4352408735968485), (69, 254, 3.71446271427128), (70, 381, 4.040102894730081), (70, 654, 2.7736344771155577), (70, 745, 2.8876974380464016), (72, 21, 4.076579614052983), (72, 196, 4.262983199369007), (72, 198, 3.530671089314612), (73, 33, 2.6949592054273515), (73, 44, 3.236917333234528), (73, 106, 3.4306770593810794), (73, 146, 2.2908841873100707), (73, 152, 2.533761084929075), (73, 238, 1.537819594692056), (73, 750, 1.2984698776637515), (74, 757, 3.162867236429582), (75, 27, 3.892073589984885), (75, 596, 0.4882881213651485), (76, 118, 1.8381458158687634), (76, 644, 4.47584354560722), (77, 824, 3.000260834321737), (78, 51, 4.691560978274264), (78, 558, 4.718210394267709), (78, 563, 2.7405911612213725), (78, 710, 4.974836823689795), (78, 719, 1.087674759786801), (78, 991, 1.9767275331948544), (79, 850, 4.84197569748778), (80, 213, 4.504696543963508), (80, 298, 1.091460974757343), (80, 382, 1.3949513798712028), (83, 528, 2.335162280594883), (84, 14, 3.638669046046762), (84, 101, 4.514941806692279), (84, 102, 4.285300903429879), (84, 108, 3.80901920515667), (84, 187, 0.46009276964993145), (84, 262, 4.0719380744282025), (84, 275, 1.2537769446156686), (84, 278, 3.183381517799547), (84, 355, 3.4425717607182964), (84, 413, 4.452272980683944), (84, 513, 0.33865610310224176), (84, 587, 3.1022194295450487), (84, 597, 3.663379248661702), (84, 678, 4.240783278080432), (84, 716, 2.048103282321256), (84, 727, 3.1386731955212532), (84, 754, 4.519203863748723), (84, 772, 0.779009769508645), (84, 800, 1.9455139937308559), (84, 812, 4.547244347727905), (84, 835, 4.428972227735983), (84, 890, 3.849364952999394), (84, 922, 3.9513882526132234), (85, 19, 1.1288545007250015), (85, 346, 2.657207745018584), (85, 572, 2.0615670830074877), (86, 271, 3.8759571361580827), (86, 418, 1.3551955812124703), (87, 163, 2.0735394959064597), (89, 162, 4.2047942005242405), (89, 575, 2.6808296632810507), (89, 640, 4.140809991063886), (90, 0, 2.82263334937212), (90, 1, 4.8117416136183735), (90, 2, 1.6264795504800225), (90, 22, 4.768596577676193), (90, 45, 4.871810945198411), (90, 65, 3.9524604924681337), (90, 78, 2.43956292639206), (90, 97, 4.80779277489109), (90, 99, 2.1854055598101048), (90, 112, 4.635534990975002), (90, 177, 1.494815838312322), (90, 184, 3.3698445526221747), (90, 207, 2.015611266599582), (90, 240, 2.680890074393214), (90, 274, 1.9521904919254178), (90, 288, 3.3363829540471204), (90, 311, 2.0546011273696605), (90, 331, 1.9278234731023365), (90, 368, 1.9468759946104799), (90, 384, 1.6501262858111287), (90, 406, 3.112764531632293), (90, 470, 4.672906929529397), (90, 582, 4.057423455089351), (90, 599, 0.9438763903955965), (90, 708, 4.122543640425701), (90, 737, 1.457638500923155), (90, 811, 4.387052071170937), (90, 818, 4.809071316264168), (90, 830, 4.128716682666373), (90, 907, 1.7126993683591458), (90, 931, 3.0481100663822076), (90, 953, 1.7786351546577743), (92, 149, 3.026665390002504), (92, 407, 0.38832952919083563), (93, 836, 3.8165237392958757), (94, 14, 4.405559580124064), (94, 51, 3.321986507663117), (94, 62, 4.365053776908047), (94, 102, 4.402265723571655), (94, 354, 3.059993698785412), (94, 413, 3.7348927476575984), (94, 463, 3.1190087770374597), (94, 492, 3.0753142282757038), (94, 527, 2.532431810917838), (94, 584, 0.8888984677397925), (94, 703, 2.4556086748356916), (94, 710, 4.914955359081943), (94, 726, 2.864065940469335), (94, 754, 3.471630931818426), (94, 812, 3.526975791032881), (94, 835, 3.7287690907881896), (94, 854, 3.405581590603936), (94, 902, 4.272035589413072), (94, 934, 2.413906230706864), (94, 935, 4.672849803697494), (94, 954, 3.3248875789764827), (94, 961, 2.4758730188420808), (95, 138, 1.7495746884889336), (95, 504, 2.9603907184450584), (95, 576, 2.1036611314802585), (96, 239, 2.6755029480765624), (96, 535, 1.7287870171966275), (96, 749, 2.770398955505485), (96, 785, 3.1162182667745455), (96, 982, 4.172328392558757), (97, 47, 4.703814806631298), (97, 909, 3.207984396571845), (99, 94, 4.160141641667602)]\n",
            "unmatched: [ 1 66 98 71 11 15 16 47 81 82 88 25 91 62]\n",
            "time taken: 1.2577680000000004\n"
          ],
          "name": "stdout"
        }
      ]
    },
    {
      "cell_type": "markdown",
      "metadata": {
        "id": "Z7Y_biSZIzZX"
      },
      "source": [
        "As we can see from above, there is a noticeable pattern in increasing the catalogue size. Increasing the size of either catalogue by a factor of 10 also increases the run time by an equivalent factor of 10. Increasing both catalogue sizes simultaneously by a factor of 10 inflates the run time by a factor of 100. We perhaps can best illustrate this in the following plot."
      ]
    },
    {
      "cell_type": "code",
      "metadata": {
        "id": "l7XVfNMsKtcW",
        "outputId": "a475e9dc-6ec3-45a5-9c46-b2159648870c",
        "colab": {
          "base_uri": "https://localhost:8080/",
          "height": 283
        }
      },
      "source": [
        "import matplotlib.pyplot as plt\n",
        "\n",
        "log_linspace = np.linspace(1, 6, 6)\n",
        "time_space = []\n",
        "cata1 = create_cat(10)\n",
        "\n",
        "for i in log_linspace:\n",
        "  cata2 = create_cat(int(10**i))\n",
        "\n",
        "  matches, no_matches, time_taken = crossmatch(cata1, cata2, 5)\n",
        "  time_space.append(time_taken)\n",
        "\n",
        "plt.plot(log_linspace, time_space, 'bo')\n",
        "plt.xlabel(r'$\\log_{10}(\\mathrm{Size(Catalogue 2)})$')\n",
        "plt.ylabel(\"run time (seconds)\")\n",
        "plt.show()"
      ],
      "execution_count": 20,
      "outputs": [
        {
          "output_type": "display_data",
          "data": {
            "image/png": "[encoded data removed]",
            "text/plain": [
              "<Figure size 432x288 with 1 Axes>"
            ]
          },
          "metadata": {
            "tags": [],
            "needs_background": "light"
          }
        }
      ]
    },
    {
      "cell_type": "markdown",
      "metadata": {
        "id": "gfMpU7P8TzdU"
      },
      "source": [
        "Setting the size of the first catalogue at 10, the above plot shows the effect of increasing the size of the second catalogue by factors of 10 on the run time. The difference in run time between catalog size $10^5$ and $10^6$ is noticeable enough that it becomes impractical to use binary search for crossmatching between large catalogues of data."
      ]
    },
    {
      "cell_type": "markdown",
      "metadata": {
        "id": "u8qG6aExd6np"
      },
      "source": [
        "[SCORE BREAKDOWN] \n",
        "\n",
        "Part 1:\n",
        "* Correctness of Code: []/15\n",
        "* Discussion: []/15\n",
        "* Subtotal: []/30\n",
        "\n",
        "Part 2:\n",
        "* Correctness of Code: []/25\n",
        "* Discussion: []/25\n",
        "* Subtotal: []/50\n",
        "\n",
        "Part 3:\n",
        "* Correctness of Code: []/10\n",
        "* Discussion: []/10\n",
        "* Subtotal: []/20\n",
        "\n",
        "Feedback: "
      ]
    }
  ]
}